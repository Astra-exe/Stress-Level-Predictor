{
  "cells": [
    {
      "cell_type": "code",
      "execution_count": 2,
      "metadata": {
        "id": "6glUTLL8upLV"
      },
      "outputs": [],
      "source": [
        "import pandas as pd\n",
        "import numpy as np\n",
        "import matplotlib.pyplot as plt\n",
        "import seaborn as sns"
      ]
    },
    {
      "cell_type": "markdown",
      "metadata": {
        "id": "ez4IrKV9-m5t"
      },
      "source": [
        "## Carga de datos"
      ]
    },
    {
      "cell_type": "code",
      "execution_count": 3,
      "metadata": {
        "id": "76Re44q84pxm"
      },
      "outputs": [],
      "source": [
        "df = pd.read_csv(\"Sleep_health_and_lifestyle_dataset.csv\")"
      ]
    },
    {
      "cell_type": "code",
      "execution_count": 4,
      "metadata": {
        "colab": {
          "base_uri": "https://localhost:8080/",
          "height": 293
        },
        "id": "2rbZ7LMMFy1R",
        "outputId": "17e5e81a-a011-45f5-aba6-4d84586c2430"
      },
      "outputs": [
        {
          "data": {
            "text/html": [
              "<div>\n",
              "<style scoped>\n",
              "    .dataframe tbody tr th:only-of-type {\n",
              "        vertical-align: middle;\n",
              "    }\n",
              "\n",
              "    .dataframe tbody tr th {\n",
              "        vertical-align: top;\n",
              "    }\n",
              "\n",
              "    .dataframe thead th {\n",
              "        text-align: right;\n",
              "    }\n",
              "</style>\n",
              "<table border=\"1\" class=\"dataframe\">\n",
              "  <thead>\n",
              "    <tr style=\"text-align: right;\">\n",
              "      <th></th>\n",
              "      <th>Person ID</th>\n",
              "      <th>Gender</th>\n",
              "      <th>Age</th>\n",
              "      <th>Occupation</th>\n",
              "      <th>Sleep Duration</th>\n",
              "      <th>Quality of Sleep</th>\n",
              "      <th>Physical Activity Level</th>\n",
              "      <th>Stress Level</th>\n",
              "      <th>BMI Category</th>\n",
              "      <th>Blood Pressure</th>\n",
              "      <th>Heart Rate</th>\n",
              "      <th>Daily Steps</th>\n",
              "      <th>Sleep Disorder</th>\n",
              "    </tr>\n",
              "  </thead>\n",
              "  <tbody>\n",
              "    <tr>\n",
              "      <th>0</th>\n",
              "      <td>1</td>\n",
              "      <td>Male</td>\n",
              "      <td>27</td>\n",
              "      <td>Software Engineer</td>\n",
              "      <td>6.1</td>\n",
              "      <td>6</td>\n",
              "      <td>42</td>\n",
              "      <td>6</td>\n",
              "      <td>Overweight</td>\n",
              "      <td>126/83</td>\n",
              "      <td>77</td>\n",
              "      <td>4200</td>\n",
              "      <td>NaN</td>\n",
              "    </tr>\n",
              "    <tr>\n",
              "      <th>1</th>\n",
              "      <td>2</td>\n",
              "      <td>Male</td>\n",
              "      <td>28</td>\n",
              "      <td>Doctor</td>\n",
              "      <td>6.2</td>\n",
              "      <td>6</td>\n",
              "      <td>60</td>\n",
              "      <td>8</td>\n",
              "      <td>Normal</td>\n",
              "      <td>125/80</td>\n",
              "      <td>75</td>\n",
              "      <td>10000</td>\n",
              "      <td>NaN</td>\n",
              "    </tr>\n",
              "    <tr>\n",
              "      <th>2</th>\n",
              "      <td>3</td>\n",
              "      <td>Male</td>\n",
              "      <td>28</td>\n",
              "      <td>Doctor</td>\n",
              "      <td>6.2</td>\n",
              "      <td>6</td>\n",
              "      <td>60</td>\n",
              "      <td>8</td>\n",
              "      <td>Normal</td>\n",
              "      <td>125/80</td>\n",
              "      <td>75</td>\n",
              "      <td>10000</td>\n",
              "      <td>NaN</td>\n",
              "    </tr>\n",
              "    <tr>\n",
              "      <th>3</th>\n",
              "      <td>4</td>\n",
              "      <td>Male</td>\n",
              "      <td>28</td>\n",
              "      <td>Sales Representative</td>\n",
              "      <td>5.9</td>\n",
              "      <td>4</td>\n",
              "      <td>30</td>\n",
              "      <td>8</td>\n",
              "      <td>Obese</td>\n",
              "      <td>140/90</td>\n",
              "      <td>85</td>\n",
              "      <td>3000</td>\n",
              "      <td>Sleep Apnea</td>\n",
              "    </tr>\n",
              "    <tr>\n",
              "      <th>4</th>\n",
              "      <td>5</td>\n",
              "      <td>Male</td>\n",
              "      <td>28</td>\n",
              "      <td>Sales Representative</td>\n",
              "      <td>5.9</td>\n",
              "      <td>4</td>\n",
              "      <td>30</td>\n",
              "      <td>8</td>\n",
              "      <td>Obese</td>\n",
              "      <td>140/90</td>\n",
              "      <td>85</td>\n",
              "      <td>3000</td>\n",
              "      <td>Sleep Apnea</td>\n",
              "    </tr>\n",
              "  </tbody>\n",
              "</table>\n",
              "</div>"
            ],
            "text/plain": [
              "   Person ID Gender  Age            Occupation  Sleep Duration  \\\n",
              "0          1   Male   27     Software Engineer             6.1   \n",
              "1          2   Male   28                Doctor             6.2   \n",
              "2          3   Male   28                Doctor             6.2   \n",
              "3          4   Male   28  Sales Representative             5.9   \n",
              "4          5   Male   28  Sales Representative             5.9   \n",
              "\n",
              "   Quality of Sleep  Physical Activity Level  Stress Level BMI Category  \\\n",
              "0                 6                       42             6   Overweight   \n",
              "1                 6                       60             8       Normal   \n",
              "2                 6                       60             8       Normal   \n",
              "3                 4                       30             8        Obese   \n",
              "4                 4                       30             8        Obese   \n",
              "\n",
              "  Blood Pressure  Heart Rate  Daily Steps Sleep Disorder  \n",
              "0         126/83          77         4200            NaN  \n",
              "1         125/80          75        10000            NaN  \n",
              "2         125/80          75        10000            NaN  \n",
              "3         140/90          85         3000    Sleep Apnea  \n",
              "4         140/90          85         3000    Sleep Apnea  "
            ]
          },
          "execution_count": 4,
          "metadata": {},
          "output_type": "execute_result"
        }
      ],
      "source": [
        "df.head()"
      ]
    },
    {
      "cell_type": "code",
      "execution_count": 5,
      "metadata": {
        "colab": {
          "base_uri": "https://localhost:8080/"
        },
        "id": "FjuoVrIiGAAh",
        "outputId": "2706d95c-72bf-43d2-9601-6582d0195c16"
      },
      "outputs": [
        {
          "data": {
            "text/plain": [
              "(374, 13)"
            ]
          },
          "execution_count": 5,
          "metadata": {},
          "output_type": "execute_result"
        }
      ],
      "source": [
        "df.shape"
      ]
    },
    {
      "cell_type": "code",
      "execution_count": 6,
      "metadata": {
        "colab": {
          "base_uri": "https://localhost:8080/",
          "height": 491
        },
        "id": "2370a6PnFzvG",
        "outputId": "fb5cbff7-2a80-4f72-f9f4-9f095d375ef9"
      },
      "outputs": [
        {
          "data": {
            "text/plain": [
              "Person ID                    0\n",
              "Gender                       0\n",
              "Age                          0\n",
              "Occupation                   0\n",
              "Sleep Duration               0\n",
              "Quality of Sleep             0\n",
              "Physical Activity Level      0\n",
              "Stress Level                 0\n",
              "BMI Category                 0\n",
              "Blood Pressure               0\n",
              "Heart Rate                   0\n",
              "Daily Steps                  0\n",
              "Sleep Disorder             219\n",
              "dtype: int64"
            ]
          },
          "execution_count": 6,
          "metadata": {},
          "output_type": "execute_result"
        }
      ],
      "source": [
        "df.isnull().sum()"
      ]
    },
    {
      "cell_type": "code",
      "execution_count": 7,
      "metadata": {
        "colab": {
          "base_uri": "https://localhost:8080/"
        },
        "id": "BlYgeDF_F4Tl",
        "outputId": "e41a66b7-4327-4811-96b0-fe6580dd3e57"
      },
      "outputs": [
        {
          "data": {
            "text/plain": [
              "array(['Overweight', 'Normal', 'Obese', 'Normal Weight'], dtype=object)"
            ]
          },
          "execution_count": 7,
          "metadata": {},
          "output_type": "execute_result"
        }
      ],
      "source": [
        "pd.unique(df['BMI Category'])"
      ]
    },
    {
      "cell_type": "markdown",
      "metadata": {
        "id": "17b0xDmz1pK7"
      },
      "source": [
        "Hay muchos nulos en el historial de desordenes del sueño. Lo mejor sería eliminarlo y no tomar en cuenta esa columna para el modelo."
      ]
    },
    {
      "cell_type": "code",
      "execution_count": 8,
      "metadata": {
        "id": "TORbSB4Gxfn8"
      },
      "outputs": [],
      "source": [
        "df = df.drop(['Sleep Disorder','Person ID'], axis=1)"
      ]
    },
    {
      "cell_type": "code",
      "execution_count": 9,
      "metadata": {
        "colab": {
          "base_uri": "https://localhost:8080/",
          "height": 258
        },
        "id": "uGFvGTCo90ou",
        "outputId": "9b5d5de3-e44f-4147-b99b-f95b25ab7b76"
      },
      "outputs": [
        {
          "data": {
            "text/html": [
              "<div>\n",
              "<style scoped>\n",
              "    .dataframe tbody tr th:only-of-type {\n",
              "        vertical-align: middle;\n",
              "    }\n",
              "\n",
              "    .dataframe tbody tr th {\n",
              "        vertical-align: top;\n",
              "    }\n",
              "\n",
              "    .dataframe thead th {\n",
              "        text-align: right;\n",
              "    }\n",
              "</style>\n",
              "<table border=\"1\" class=\"dataframe\">\n",
              "  <thead>\n",
              "    <tr style=\"text-align: right;\">\n",
              "      <th></th>\n",
              "      <th>Gender</th>\n",
              "      <th>Age</th>\n",
              "      <th>Occupation</th>\n",
              "      <th>Sleep Duration</th>\n",
              "      <th>Quality of Sleep</th>\n",
              "      <th>Physical Activity Level</th>\n",
              "      <th>Stress Level</th>\n",
              "      <th>BMI Category</th>\n",
              "      <th>Blood Pressure</th>\n",
              "      <th>Heart Rate</th>\n",
              "      <th>Daily Steps</th>\n",
              "    </tr>\n",
              "  </thead>\n",
              "  <tbody>\n",
              "    <tr>\n",
              "      <th>0</th>\n",
              "      <td>Male</td>\n",
              "      <td>27</td>\n",
              "      <td>Software Engineer</td>\n",
              "      <td>6.1</td>\n",
              "      <td>6</td>\n",
              "      <td>42</td>\n",
              "      <td>6</td>\n",
              "      <td>Overweight</td>\n",
              "      <td>126/83</td>\n",
              "      <td>77</td>\n",
              "      <td>4200</td>\n",
              "    </tr>\n",
              "    <tr>\n",
              "      <th>1</th>\n",
              "      <td>Male</td>\n",
              "      <td>28</td>\n",
              "      <td>Doctor</td>\n",
              "      <td>6.2</td>\n",
              "      <td>6</td>\n",
              "      <td>60</td>\n",
              "      <td>8</td>\n",
              "      <td>Normal</td>\n",
              "      <td>125/80</td>\n",
              "      <td>75</td>\n",
              "      <td>10000</td>\n",
              "    </tr>\n",
              "    <tr>\n",
              "      <th>2</th>\n",
              "      <td>Male</td>\n",
              "      <td>28</td>\n",
              "      <td>Doctor</td>\n",
              "      <td>6.2</td>\n",
              "      <td>6</td>\n",
              "      <td>60</td>\n",
              "      <td>8</td>\n",
              "      <td>Normal</td>\n",
              "      <td>125/80</td>\n",
              "      <td>75</td>\n",
              "      <td>10000</td>\n",
              "    </tr>\n",
              "    <tr>\n",
              "      <th>3</th>\n",
              "      <td>Male</td>\n",
              "      <td>28</td>\n",
              "      <td>Sales Representative</td>\n",
              "      <td>5.9</td>\n",
              "      <td>4</td>\n",
              "      <td>30</td>\n",
              "      <td>8</td>\n",
              "      <td>Obese</td>\n",
              "      <td>140/90</td>\n",
              "      <td>85</td>\n",
              "      <td>3000</td>\n",
              "    </tr>\n",
              "    <tr>\n",
              "      <th>4</th>\n",
              "      <td>Male</td>\n",
              "      <td>28</td>\n",
              "      <td>Sales Representative</td>\n",
              "      <td>5.9</td>\n",
              "      <td>4</td>\n",
              "      <td>30</td>\n",
              "      <td>8</td>\n",
              "      <td>Obese</td>\n",
              "      <td>140/90</td>\n",
              "      <td>85</td>\n",
              "      <td>3000</td>\n",
              "    </tr>\n",
              "  </tbody>\n",
              "</table>\n",
              "</div>"
            ],
            "text/plain": [
              "  Gender  Age            Occupation  Sleep Duration  Quality of Sleep  \\\n",
              "0   Male   27     Software Engineer             6.1                 6   \n",
              "1   Male   28                Doctor             6.2                 6   \n",
              "2   Male   28                Doctor             6.2                 6   \n",
              "3   Male   28  Sales Representative             5.9                 4   \n",
              "4   Male   28  Sales Representative             5.9                 4   \n",
              "\n",
              "   Physical Activity Level  Stress Level BMI Category Blood Pressure  \\\n",
              "0                       42             6   Overweight         126/83   \n",
              "1                       60             8       Normal         125/80   \n",
              "2                       60             8       Normal         125/80   \n",
              "3                       30             8        Obese         140/90   \n",
              "4                       30             8        Obese         140/90   \n",
              "\n",
              "   Heart Rate  Daily Steps  \n",
              "0          77         4200  \n",
              "1          75        10000  \n",
              "2          75        10000  \n",
              "3          85         3000  \n",
              "4          85         3000  "
            ]
          },
          "execution_count": 9,
          "metadata": {},
          "output_type": "execute_result"
        }
      ],
      "source": [
        "df.head()"
      ]
    },
    {
      "cell_type": "markdown",
      "metadata": {
        "id": "tOrNhvTdaEqB"
      },
      "source": [
        "Hay que separar la presión sanguinea en dos columnas y pasarlas a entero"
      ]
    },
    {
      "cell_type": "code",
      "execution_count": 10,
      "metadata": {
        "id": "DyrfJRkEaKSR"
      },
      "outputs": [],
      "source": [
        "df[['Systolic', 'Diastolic']] = df['Blood Pressure'].str.split('/', expand=True)\n",
        "\n",
        "df['Systolic'] = df['Systolic'].astype(int)\n",
        "df['Diastolic'] = df['Diastolic'].astype(int)\n",
        "\n",
        "df = df.drop('Blood Pressure', axis=1)"
      ]
    },
    {
      "cell_type": "code",
      "execution_count": 11,
      "metadata": {
        "colab": {
          "base_uri": "https://localhost:8080/",
          "height": 275
        },
        "id": "iFdKBPTga8TT",
        "outputId": "20da3855-c066-4ee8-ee94-bcb7357c1f29"
      },
      "outputs": [
        {
          "data": {
            "text/html": [
              "<div>\n",
              "<style scoped>\n",
              "    .dataframe tbody tr th:only-of-type {\n",
              "        vertical-align: middle;\n",
              "    }\n",
              "\n",
              "    .dataframe tbody tr th {\n",
              "        vertical-align: top;\n",
              "    }\n",
              "\n",
              "    .dataframe thead th {\n",
              "        text-align: right;\n",
              "    }\n",
              "</style>\n",
              "<table border=\"1\" class=\"dataframe\">\n",
              "  <thead>\n",
              "    <tr style=\"text-align: right;\">\n",
              "      <th></th>\n",
              "      <th>Gender</th>\n",
              "      <th>Age</th>\n",
              "      <th>Occupation</th>\n",
              "      <th>Sleep Duration</th>\n",
              "      <th>Quality of Sleep</th>\n",
              "      <th>Physical Activity Level</th>\n",
              "      <th>Stress Level</th>\n",
              "      <th>BMI Category</th>\n",
              "      <th>Heart Rate</th>\n",
              "      <th>Daily Steps</th>\n",
              "      <th>Systolic</th>\n",
              "      <th>Diastolic</th>\n",
              "    </tr>\n",
              "  </thead>\n",
              "  <tbody>\n",
              "    <tr>\n",
              "      <th>0</th>\n",
              "      <td>Male</td>\n",
              "      <td>27</td>\n",
              "      <td>Software Engineer</td>\n",
              "      <td>6.1</td>\n",
              "      <td>6</td>\n",
              "      <td>42</td>\n",
              "      <td>6</td>\n",
              "      <td>Overweight</td>\n",
              "      <td>77</td>\n",
              "      <td>4200</td>\n",
              "      <td>126</td>\n",
              "      <td>83</td>\n",
              "    </tr>\n",
              "    <tr>\n",
              "      <th>1</th>\n",
              "      <td>Male</td>\n",
              "      <td>28</td>\n",
              "      <td>Doctor</td>\n",
              "      <td>6.2</td>\n",
              "      <td>6</td>\n",
              "      <td>60</td>\n",
              "      <td>8</td>\n",
              "      <td>Normal</td>\n",
              "      <td>75</td>\n",
              "      <td>10000</td>\n",
              "      <td>125</td>\n",
              "      <td>80</td>\n",
              "    </tr>\n",
              "    <tr>\n",
              "      <th>2</th>\n",
              "      <td>Male</td>\n",
              "      <td>28</td>\n",
              "      <td>Doctor</td>\n",
              "      <td>6.2</td>\n",
              "      <td>6</td>\n",
              "      <td>60</td>\n",
              "      <td>8</td>\n",
              "      <td>Normal</td>\n",
              "      <td>75</td>\n",
              "      <td>10000</td>\n",
              "      <td>125</td>\n",
              "      <td>80</td>\n",
              "    </tr>\n",
              "    <tr>\n",
              "      <th>3</th>\n",
              "      <td>Male</td>\n",
              "      <td>28</td>\n",
              "      <td>Sales Representative</td>\n",
              "      <td>5.9</td>\n",
              "      <td>4</td>\n",
              "      <td>30</td>\n",
              "      <td>8</td>\n",
              "      <td>Obese</td>\n",
              "      <td>85</td>\n",
              "      <td>3000</td>\n",
              "      <td>140</td>\n",
              "      <td>90</td>\n",
              "    </tr>\n",
              "    <tr>\n",
              "      <th>4</th>\n",
              "      <td>Male</td>\n",
              "      <td>28</td>\n",
              "      <td>Sales Representative</td>\n",
              "      <td>5.9</td>\n",
              "      <td>4</td>\n",
              "      <td>30</td>\n",
              "      <td>8</td>\n",
              "      <td>Obese</td>\n",
              "      <td>85</td>\n",
              "      <td>3000</td>\n",
              "      <td>140</td>\n",
              "      <td>90</td>\n",
              "    </tr>\n",
              "  </tbody>\n",
              "</table>\n",
              "</div>"
            ],
            "text/plain": [
              "  Gender  Age            Occupation  Sleep Duration  Quality of Sleep  \\\n",
              "0   Male   27     Software Engineer             6.1                 6   \n",
              "1   Male   28                Doctor             6.2                 6   \n",
              "2   Male   28                Doctor             6.2                 6   \n",
              "3   Male   28  Sales Representative             5.9                 4   \n",
              "4   Male   28  Sales Representative             5.9                 4   \n",
              "\n",
              "   Physical Activity Level  Stress Level BMI Category  Heart Rate  \\\n",
              "0                       42             6   Overweight          77   \n",
              "1                       60             8       Normal          75   \n",
              "2                       60             8       Normal          75   \n",
              "3                       30             8        Obese          85   \n",
              "4                       30             8        Obese          85   \n",
              "\n",
              "   Daily Steps  Systolic  Diastolic  \n",
              "0         4200       126         83  \n",
              "1        10000       125         80  \n",
              "2        10000       125         80  \n",
              "3         3000       140         90  \n",
              "4         3000       140         90  "
            ]
          },
          "execution_count": 11,
          "metadata": {},
          "output_type": "execute_result"
        }
      ],
      "source": [
        "df.head()"
      ]
    },
    {
      "cell_type": "markdown",
      "metadata": {
        "id": "MuMBho1QbxMm"
      },
      "source": [
        "Necesitamos juntar el \"Normal weight\" y \"Normal\" en uno solo"
      ]
    },
    {
      "cell_type": "code",
      "execution_count": 12,
      "metadata": {
        "id": "hHcZo_jDb9xe"
      },
      "outputs": [],
      "source": [
        "df['BMI Category'] = df['BMI Category'].replace('Normal Weight', 'Normal')"
      ]
    },
    {
      "cell_type": "code",
      "execution_count": 13,
      "metadata": {
        "colab": {
          "base_uri": "https://localhost:8080/"
        },
        "id": "N-lzY4M_cjh5",
        "outputId": "e79d4245-ecad-40ff-c033-8a46218e9168"
      },
      "outputs": [
        {
          "data": {
            "text/plain": [
              "array(['Overweight', 'Normal', 'Obese'], dtype=object)"
            ]
          },
          "execution_count": 13,
          "metadata": {},
          "output_type": "execute_result"
        }
      ],
      "source": [
        "pd.unique(df['BMI Category'])"
      ]
    },
    {
      "cell_type": "markdown",
      "metadata": {
        "id": "dUBmdGaP-pth"
      },
      "source": [
        "# Analisis exploratorio"
      ]
    },
    {
      "cell_type": "code",
      "execution_count": 14,
      "metadata": {
        "colab": {
          "base_uri": "https://localhost:8080/",
          "height": 430
        },
        "id": "N_AdxtPv92Le",
        "outputId": "39a8c432-130d-4d7f-ac6f-26185812e557"
      },
      "outputs": [
        {
          "data": {
            "image/png": "[encoded data removed]",
            "text/plain": [
              "<Figure size 640x480 with 1 Axes>"
            ]
          },
          "metadata": {},
          "output_type": "display_data"
        }
      ],
      "source": [
        "plt.hist(df['Age'])\n",
        "plt.show()"
      ]
    },
    {
      "cell_type": "code",
      "execution_count": 15,
      "metadata": {
        "colab": {
          "base_uri": "https://localhost:8080/",
          "height": 430
        },
        "id": "ugIoKY3uThyF",
        "outputId": "ac96155d-02be-4270-8ce7-463add81e9dc"
      },
      "outputs": [
        {
          "data": {
            "image/png": "[encoded data removed]",
            "text/plain": [
              "<Figure size 640x480 with 1 Axes>"
            ]
          },
          "metadata": {},
          "output_type": "display_data"
        }
      ],
      "source": [
        "sns.barplot(df['Gender'])\n",
        "plt.show()"
      ]
    },
    {
      "cell_type": "code",
      "execution_count": 16,
      "metadata": {
        "colab": {
          "base_uri": "https://localhost:8080/",
          "height": 430
        },
        "id": "LuNdZ1i6VZMj",
        "outputId": "d76c9fbf-d85c-4429-84f7-62fb97bb6cbe"
      },
      "outputs": [
        {
          "data": {
            "image/png": "[encoded data removed]",
            "text/plain": [
              "<Figure size 640x480 with 1 Axes>"
            ]
          },
          "metadata": {},
          "output_type": "display_data"
        }
      ],
      "source": [
        "plt.hist(df['Sleep Duration'])\n",
        "plt.show()"
      ]
    },
    {
      "cell_type": "code",
      "execution_count": 17,
      "metadata": {
        "colab": {
          "base_uri": "https://localhost:8080/",
          "height": 430
        },
        "id": "KUE4wz2-WYId",
        "outputId": "aa03a176-ac18-4bce-d9a3-1e5832b1e3df"
      },
      "outputs": [
        {
          "data": {
            "image/png": "[encoded data removed]",
            "text/plain": [
              "<Figure size 640x480 with 1 Axes>"
            ]
          },
          "metadata": {},
          "output_type": "display_data"
        }
      ],
      "source": [
        "plt.hist(df['Stress Level'])\n",
        "plt.show()"
      ]
    },
    {
      "cell_type": "code",
      "execution_count": 18,
      "metadata": {
        "colab": {
          "base_uri": "https://localhost:8080/",
          "height": 430
        },
        "id": "wow4WD8RYy8T",
        "outputId": "260f8b0c-d0ce-48ab-b5db-7e34a2749b05"
      },
      "outputs": [
        {
          "data": {
            "image/png": "[encoded data removed]",
            "text/plain": [
              "<Figure size 640x480 with 1 Axes>"
            ]
          },
          "metadata": {},
          "output_type": "display_data"
        }
      ],
      "source": [
        "sns.barplot(df['BMI Category'])\n",
        "plt.show()"
      ]
    },
    {
      "cell_type": "code",
      "execution_count": 19,
      "metadata": {
        "colab": {
          "base_uri": "https://localhost:8080/"
        },
        "id": "BK1AmvaEvFJl",
        "outputId": "5c7086a3-386e-40aa-b69b-9c902a168621"
      },
      "outputs": [
        {
          "data": {
            "text/plain": [
              "np.int64(90)"
            ]
          },
          "execution_count": 19,
          "metadata": {},
          "output_type": "execute_result"
        }
      ],
      "source": [
        "df['Physical Activity Level'].max()"
      ]
    },
    {
      "cell_type": "code",
      "execution_count": 20,
      "metadata": {
        "colab": {
          "base_uri": "https://localhost:8080/",
          "height": 430
        },
        "id": "mrMCTXPcu_l9",
        "outputId": "564c499e-309c-409a-90f3-cba86dd9be84"
      },
      "outputs": [
        {
          "data": {
            "image/png": "[encoded data removed]",
            "text/plain": [
              "<Figure size 640x480 with 1 Axes>"
            ]
          },
          "metadata": {},
          "output_type": "display_data"
        }
      ],
      "source": [
        "plt.hist(df['Physical Activity Level'])\n",
        "plt.show()"
      ]
    },
    {
      "cell_type": "markdown",
      "metadata": {
        "id": "X_7uKo_n7TB1"
      },
      "source": [
        "**Tratamiento de datos para elegir el mejor modelo**"
      ]
    },
    {
      "cell_type": "code",
      "execution_count": 21,
      "metadata": {
        "colab": {
          "base_uri": "https://localhost:8080/",
          "height": 275
        },
        "id": "uqeUCD5Xc3Kp",
        "outputId": "6211d64f-9d28-4c96-cf87-9632927d57b5"
      },
      "outputs": [
        {
          "data": {
            "text/html": [
              "<div>\n",
              "<style scoped>\n",
              "    .dataframe tbody tr th:only-of-type {\n",
              "        vertical-align: middle;\n",
              "    }\n",
              "\n",
              "    .dataframe tbody tr th {\n",
              "        vertical-align: top;\n",
              "    }\n",
              "\n",
              "    .dataframe thead th {\n",
              "        text-align: right;\n",
              "    }\n",
              "</style>\n",
              "<table border=\"1\" class=\"dataframe\">\n",
              "  <thead>\n",
              "    <tr style=\"text-align: right;\">\n",
              "      <th></th>\n",
              "      <th>Gender</th>\n",
              "      <th>Age</th>\n",
              "      <th>Occupation</th>\n",
              "      <th>Sleep Duration</th>\n",
              "      <th>Quality of Sleep</th>\n",
              "      <th>Physical Activity Level</th>\n",
              "      <th>Stress Level</th>\n",
              "      <th>BMI Category</th>\n",
              "      <th>Heart Rate</th>\n",
              "      <th>Daily Steps</th>\n",
              "      <th>Systolic</th>\n",
              "      <th>Diastolic</th>\n",
              "    </tr>\n",
              "  </thead>\n",
              "  <tbody>\n",
              "    <tr>\n",
              "      <th>0</th>\n",
              "      <td>Male</td>\n",
              "      <td>27</td>\n",
              "      <td>Software Engineer</td>\n",
              "      <td>6.1</td>\n",
              "      <td>6</td>\n",
              "      <td>42</td>\n",
              "      <td>6</td>\n",
              "      <td>Overweight</td>\n",
              "      <td>77</td>\n",
              "      <td>4200</td>\n",
              "      <td>126</td>\n",
              "      <td>83</td>\n",
              "    </tr>\n",
              "    <tr>\n",
              "      <th>1</th>\n",
              "      <td>Male</td>\n",
              "      <td>28</td>\n",
              "      <td>Doctor</td>\n",
              "      <td>6.2</td>\n",
              "      <td>6</td>\n",
              "      <td>60</td>\n",
              "      <td>8</td>\n",
              "      <td>Normal</td>\n",
              "      <td>75</td>\n",
              "      <td>10000</td>\n",
              "      <td>125</td>\n",
              "      <td>80</td>\n",
              "    </tr>\n",
              "    <tr>\n",
              "      <th>2</th>\n",
              "      <td>Male</td>\n",
              "      <td>28</td>\n",
              "      <td>Doctor</td>\n",
              "      <td>6.2</td>\n",
              "      <td>6</td>\n",
              "      <td>60</td>\n",
              "      <td>8</td>\n",
              "      <td>Normal</td>\n",
              "      <td>75</td>\n",
              "      <td>10000</td>\n",
              "      <td>125</td>\n",
              "      <td>80</td>\n",
              "    </tr>\n",
              "    <tr>\n",
              "      <th>3</th>\n",
              "      <td>Male</td>\n",
              "      <td>28</td>\n",
              "      <td>Sales Representative</td>\n",
              "      <td>5.9</td>\n",
              "      <td>4</td>\n",
              "      <td>30</td>\n",
              "      <td>8</td>\n",
              "      <td>Obese</td>\n",
              "      <td>85</td>\n",
              "      <td>3000</td>\n",
              "      <td>140</td>\n",
              "      <td>90</td>\n",
              "    </tr>\n",
              "    <tr>\n",
              "      <th>4</th>\n",
              "      <td>Male</td>\n",
              "      <td>28</td>\n",
              "      <td>Sales Representative</td>\n",
              "      <td>5.9</td>\n",
              "      <td>4</td>\n",
              "      <td>30</td>\n",
              "      <td>8</td>\n",
              "      <td>Obese</td>\n",
              "      <td>85</td>\n",
              "      <td>3000</td>\n",
              "      <td>140</td>\n",
              "      <td>90</td>\n",
              "    </tr>\n",
              "  </tbody>\n",
              "</table>\n",
              "</div>"
            ],
            "text/plain": [
              "  Gender  Age            Occupation  Sleep Duration  Quality of Sleep  \\\n",
              "0   Male   27     Software Engineer             6.1                 6   \n",
              "1   Male   28                Doctor             6.2                 6   \n",
              "2   Male   28                Doctor             6.2                 6   \n",
              "3   Male   28  Sales Representative             5.9                 4   \n",
              "4   Male   28  Sales Representative             5.9                 4   \n",
              "\n",
              "   Physical Activity Level  Stress Level BMI Category  Heart Rate  \\\n",
              "0                       42             6   Overweight          77   \n",
              "1                       60             8       Normal          75   \n",
              "2                       60             8       Normal          75   \n",
              "3                       30             8        Obese          85   \n",
              "4                       30             8        Obese          85   \n",
              "\n",
              "   Daily Steps  Systolic  Diastolic  \n",
              "0         4200       126         83  \n",
              "1        10000       125         80  \n",
              "2        10000       125         80  \n",
              "3         3000       140         90  \n",
              "4         3000       140         90  "
            ]
          },
          "execution_count": 21,
          "metadata": {},
          "output_type": "execute_result"
        }
      ],
      "source": [
        "df.head()"
      ]
    },
    {
      "cell_type": "code",
      "execution_count": 22,
      "metadata": {
        "colab": {
          "base_uri": "https://localhost:8080/"
        },
        "id": "0lxBFi9z3wxa",
        "outputId": "1c9bc6d2-6c85-48ba-9ddf-58cda3e76e5f"
      },
      "outputs": [
        {
          "data": {
            "text/plain": [
              "array(['Software Engineer', 'Doctor', 'Sales Representative', 'Teacher',\n",
              "       'Nurse', 'Engineer', 'Accountant', 'Scientist', 'Lawyer',\n",
              "       'Salesperson', 'Manager'], dtype=object)"
            ]
          },
          "execution_count": 22,
          "metadata": {},
          "output_type": "execute_result"
        }
      ],
      "source": [
        "pd.unique(df['Occupation'])"
      ]
    },
    {
      "cell_type": "markdown",
      "metadata": {
        "id": "GIb5XhFxs0dH"
      },
      "source": [
        "**Cambiando de profesiones específicas a areas de trabajo**"
      ]
    },
    {
      "cell_type": "code",
      "execution_count": 23,
      "metadata": {
        "id": "dXMuhCeRroWQ"
      },
      "outputs": [],
      "source": [
        "mapping = {\n",
        "    'Software Engineer': 'Tecnología',\n",
        "    'Engineer': 'Ingeniería',\n",
        "    'Doctor': 'Salud',\n",
        "    'Nurse': 'Salud',\n",
        "    'Teacher': 'Educación',\n",
        "    'Sales Representative': 'Ventas',\n",
        "    'Salesperson': 'Ventas',\n",
        "    'Manager': 'Gestión',\n",
        "    'Accountant': 'Finanzas',\n",
        "    'Scientist': 'Ciencia',\n",
        "    'Lawyer': 'Leyes'\n",
        "}"
      ]
    },
    {
      "cell_type": "code",
      "execution_count": 24,
      "metadata": {
        "id": "6VL1HeEhs-OR"
      },
      "outputs": [],
      "source": [
        "# Reemplazar los valores en la columna\n",
        "df['Occupation'] = df['Occupation'].replace(mapping)"
      ]
    },
    {
      "cell_type": "code",
      "execution_count": 25,
      "metadata": {
        "id": "SgmzSdi6t777"
      },
      "outputs": [],
      "source": [
        "df['Occupation'] = df['Occupation'].replace('Gestión', 'RH')"
      ]
    },
    {
      "cell_type": "code",
      "execution_count": 26,
      "metadata": {
        "colab": {
          "base_uri": "https://localhost:8080/",
          "height": 241
        },
        "id": "ezavG6catJ6v",
        "outputId": "c3724996-cc0c-49ed-e9b8-1b1c6d71b30d"
      },
      "outputs": [
        {
          "data": {
            "text/plain": [
              "0    Tecnología\n",
              "1         Salud\n",
              "2         Salud\n",
              "3        Ventas\n",
              "4        Ventas\n",
              "Name: Occupation, dtype: object"
            ]
          },
          "execution_count": 26,
          "metadata": {},
          "output_type": "execute_result"
        }
      ],
      "source": [
        "df['Occupation'].head()"
      ]
    },
    {
      "cell_type": "markdown",
      "metadata": {
        "id": "CKTt4kMOE60e"
      },
      "source": [
        "Codificando Ocupaciones"
      ]
    },
    {
      "cell_type": "code",
      "execution_count": 27,
      "metadata": {
        "id": "9JHgeX_V72aZ"
      },
      "outputs": [],
      "source": [
        "from sklearn.preprocessing import LabelEncoder"
      ]
    },
    {
      "cell_type": "code",
      "execution_count": 28,
      "metadata": {
        "id": "uRgKFeS2Yxi2"
      },
      "outputs": [],
      "source": [
        "label_encoder = LabelEncoder()\n",
        "df['Occupation_encoded'] = label_encoder.fit_transform(df['Occupation'])"
      ]
    },
    {
      "cell_type": "code",
      "execution_count": 29,
      "metadata": {
        "colab": {
          "base_uri": "https://localhost:8080/"
        },
        "id": "Y3fk2rXKZQfO",
        "outputId": "bf52891f-8bb2-419e-be09-89f90af98490"
      },
      "outputs": [
        {
          "name": "stdout",
          "output_type": "stream",
          "text": [
            "Clases y etiquetas:\n",
            "Ciencia: 0\n",
            "Educación: 1\n",
            "Finanzas: 2\n",
            "Ingeniería: 3\n",
            "Leyes: 4\n",
            "RH: 5\n",
            "Salud: 6\n",
            "Tecnología: 7\n",
            "Ventas: 8\n"
          ]
        }
      ],
      "source": [
        "print(\"Clases y etiquetas:\")\n",
        "for cls, label in zip(label_encoder.classes_, range(len(label_encoder.classes_))):\n",
        "    print(f\"{cls}: {label}\")"
      ]
    },
    {
      "cell_type": "markdown",
      "metadata": {
        "id": "B5Du9dqHE_81"
      },
      "source": [
        "Codificando BMI"
      ]
    },
    {
      "cell_type": "code",
      "execution_count": 30,
      "metadata": {
        "colab": {
          "base_uri": "https://localhost:8080/"
        },
        "id": "l1YotM2JZZEA",
        "outputId": "dc53f177-5cd0-4f08-a413-f542177822b1"
      },
      "outputs": [
        {
          "data": {
            "text/plain": [
              "array(['Overweight', 'Normal', 'Obese'], dtype=object)"
            ]
          },
          "execution_count": 30,
          "metadata": {},
          "output_type": "execute_result"
        }
      ],
      "source": [
        "pd.unique(df['BMI Category'])"
      ]
    },
    {
      "cell_type": "code",
      "execution_count": 31,
      "metadata": {
        "id": "o0IBLfgrFHpn"
      },
      "outputs": [],
      "source": [
        "# Diccionario de mapeo\n",
        "category_mapping = {'Normal': 0, 'Overweight': 1, 'Obese': 2}\n",
        "\n",
        "# Asignar valores usando map\n",
        "df['BMI_category_encoded'] = df['BMI Category'].map(category_mapping)"
      ]
    },
    {
      "cell_type": "markdown",
      "metadata": {
        "id": "-Pc4F1zWGQhY"
      },
      "source": [
        "Codificando Genero"
      ]
    },
    {
      "cell_type": "code",
      "execution_count": 32,
      "metadata": {
        "colab": {
          "base_uri": "https://localhost:8080/"
        },
        "id": "kgdhCb9aGEJi",
        "outputId": "2d0e61f5-febd-4f14-f6fb-bed8bfb4671e"
      },
      "outputs": [
        {
          "data": {
            "text/plain": [
              "array(['Male', 'Female'], dtype=object)"
            ]
          },
          "execution_count": 32,
          "metadata": {},
          "output_type": "execute_result"
        }
      ],
      "source": [
        "pd.unique(df['Gender'])"
      ]
    },
    {
      "cell_type": "code",
      "execution_count": 33,
      "metadata": {
        "id": "k5JltickGV4e"
      },
      "outputs": [],
      "source": [
        "# Diccionario de mapeo\n",
        "gender_mapping = {'Male': 0, 'Female': 1}\n",
        "\n",
        "# Asignar valores usando map\n",
        "df['Gender_encoded'] = df['Gender'].map(gender_mapping)"
      ]
    },
    {
      "cell_type": "markdown",
      "metadata": {
        "id": "8Ny0OiAcHBo4"
      },
      "source": [
        "**Codificación de columnas categóricas:**\n",
        "\n",
        "**Ocupaciones:**\n",
        "* Ciencia: 0\n",
        "* Educación: 1\n",
        "* Finanzas: 2\n",
        "* RH: 3\n",
        "* Ingeniería: 4\n",
        "* Leyes: 5\n",
        "* Salud: 6\n",
        "* Tecnología: 7\n",
        "* Ventas: 8\n",
        "\n",
        "**BMI:**\n",
        "* Normal: 0\n",
        "* Overweight: 1\n",
        "* Obese: 2\n",
        "\n",
        "**Gender:**\n",
        "* Male: 0\n",
        "* Female: 1"
      ]
    },
    {
      "cell_type": "code",
      "execution_count": 34,
      "metadata": {
        "colab": {
          "base_uri": "https://localhost:8080/",
          "height": 261
        },
        "id": "WKMs_gnyG02B",
        "outputId": "6b2360c6-30ff-4ee3-fe93-10bcd02d394e"
      },
      "outputs": [
        {
          "data": {
            "text/html": [
              "<div>\n",
              "<style scoped>\n",
              "    .dataframe tbody tr th:only-of-type {\n",
              "        vertical-align: middle;\n",
              "    }\n",
              "\n",
              "    .dataframe tbody tr th {\n",
              "        vertical-align: top;\n",
              "    }\n",
              "\n",
              "    .dataframe thead th {\n",
              "        text-align: right;\n",
              "    }\n",
              "</style>\n",
              "<table border=\"1\" class=\"dataframe\">\n",
              "  <thead>\n",
              "    <tr style=\"text-align: right;\">\n",
              "      <th></th>\n",
              "      <th>Gender</th>\n",
              "      <th>Age</th>\n",
              "      <th>Occupation</th>\n",
              "      <th>Sleep Duration</th>\n",
              "      <th>Quality of Sleep</th>\n",
              "      <th>Physical Activity Level</th>\n",
              "      <th>Stress Level</th>\n",
              "      <th>BMI Category</th>\n",
              "      <th>Heart Rate</th>\n",
              "      <th>Daily Steps</th>\n",
              "      <th>Systolic</th>\n",
              "      <th>Diastolic</th>\n",
              "      <th>Occupation_encoded</th>\n",
              "      <th>BMI_category_encoded</th>\n",
              "      <th>Gender_encoded</th>\n",
              "    </tr>\n",
              "  </thead>\n",
              "  <tbody>\n",
              "    <tr>\n",
              "      <th>0</th>\n",
              "      <td>Male</td>\n",
              "      <td>27</td>\n",
              "      <td>Tecnología</td>\n",
              "      <td>6.1</td>\n",
              "      <td>6</td>\n",
              "      <td>42</td>\n",
              "      <td>6</td>\n",
              "      <td>Overweight</td>\n",
              "      <td>77</td>\n",
              "      <td>4200</td>\n",
              "      <td>126</td>\n",
              "      <td>83</td>\n",
              "      <td>7</td>\n",
              "      <td>1</td>\n",
              "      <td>0</td>\n",
              "    </tr>\n",
              "    <tr>\n",
              "      <th>1</th>\n",
              "      <td>Male</td>\n",
              "      <td>28</td>\n",
              "      <td>Salud</td>\n",
              "      <td>6.2</td>\n",
              "      <td>6</td>\n",
              "      <td>60</td>\n",
              "      <td>8</td>\n",
              "      <td>Normal</td>\n",
              "      <td>75</td>\n",
              "      <td>10000</td>\n",
              "      <td>125</td>\n",
              "      <td>80</td>\n",
              "      <td>6</td>\n",
              "      <td>0</td>\n",
              "      <td>0</td>\n",
              "    </tr>\n",
              "    <tr>\n",
              "      <th>2</th>\n",
              "      <td>Male</td>\n",
              "      <td>28</td>\n",
              "      <td>Salud</td>\n",
              "      <td>6.2</td>\n",
              "      <td>6</td>\n",
              "      <td>60</td>\n",
              "      <td>8</td>\n",
              "      <td>Normal</td>\n",
              "      <td>75</td>\n",
              "      <td>10000</td>\n",
              "      <td>125</td>\n",
              "      <td>80</td>\n",
              "      <td>6</td>\n",
              "      <td>0</td>\n",
              "      <td>0</td>\n",
              "    </tr>\n",
              "    <tr>\n",
              "      <th>3</th>\n",
              "      <td>Male</td>\n",
              "      <td>28</td>\n",
              "      <td>Ventas</td>\n",
              "      <td>5.9</td>\n",
              "      <td>4</td>\n",
              "      <td>30</td>\n",
              "      <td>8</td>\n",
              "      <td>Obese</td>\n",
              "      <td>85</td>\n",
              "      <td>3000</td>\n",
              "      <td>140</td>\n",
              "      <td>90</td>\n",
              "      <td>8</td>\n",
              "      <td>2</td>\n",
              "      <td>0</td>\n",
              "    </tr>\n",
              "    <tr>\n",
              "      <th>4</th>\n",
              "      <td>Male</td>\n",
              "      <td>28</td>\n",
              "      <td>Ventas</td>\n",
              "      <td>5.9</td>\n",
              "      <td>4</td>\n",
              "      <td>30</td>\n",
              "      <td>8</td>\n",
              "      <td>Obese</td>\n",
              "      <td>85</td>\n",
              "      <td>3000</td>\n",
              "      <td>140</td>\n",
              "      <td>90</td>\n",
              "      <td>8</td>\n",
              "      <td>2</td>\n",
              "      <td>0</td>\n",
              "    </tr>\n",
              "  </tbody>\n",
              "</table>\n",
              "</div>"
            ],
            "text/plain": [
              "  Gender  Age  Occupation  Sleep Duration  Quality of Sleep  \\\n",
              "0   Male   27  Tecnología             6.1                 6   \n",
              "1   Male   28       Salud             6.2                 6   \n",
              "2   Male   28       Salud             6.2                 6   \n",
              "3   Male   28      Ventas             5.9                 4   \n",
              "4   Male   28      Ventas             5.9                 4   \n",
              "\n",
              "   Physical Activity Level  Stress Level BMI Category  Heart Rate  \\\n",
              "0                       42             6   Overweight          77   \n",
              "1                       60             8       Normal          75   \n",
              "2                       60             8       Normal          75   \n",
              "3                       30             8        Obese          85   \n",
              "4                       30             8        Obese          85   \n",
              "\n",
              "   Daily Steps  Systolic  Diastolic  Occupation_encoded  BMI_category_encoded  \\\n",
              "0         4200       126         83                   7                     1   \n",
              "1        10000       125         80                   6                     0   \n",
              "2        10000       125         80                   6                     0   \n",
              "3         3000       140         90                   8                     2   \n",
              "4         3000       140         90                   8                     2   \n",
              "\n",
              "   Gender_encoded  \n",
              "0               0  \n",
              "1               0  \n",
              "2               0  \n",
              "3               0  \n",
              "4               0  "
            ]
          },
          "execution_count": 34,
          "metadata": {},
          "output_type": "execute_result"
        }
      ],
      "source": [
        "df.head()"
      ]
    },
    {
      "cell_type": "markdown",
      "metadata": {
        "id": "AcXlT442IBpq"
      },
      "source": [
        "Eliminar columnas categóricas para solo dejar numéricas"
      ]
    },
    {
      "cell_type": "code",
      "execution_count": 35,
      "metadata": {
        "colab": {
          "base_uri": "https://localhost:8080/",
          "height": 241
        },
        "id": "Mu7wBFIXG2Eb",
        "outputId": "88bc0d1b-43c9-452a-9471-b1fec5181256"
      },
      "outputs": [
        {
          "data": {
            "text/html": [
              "<div>\n",
              "<style scoped>\n",
              "    .dataframe tbody tr th:only-of-type {\n",
              "        vertical-align: middle;\n",
              "    }\n",
              "\n",
              "    .dataframe tbody tr th {\n",
              "        vertical-align: top;\n",
              "    }\n",
              "\n",
              "    .dataframe thead th {\n",
              "        text-align: right;\n",
              "    }\n",
              "</style>\n",
              "<table border=\"1\" class=\"dataframe\">\n",
              "  <thead>\n",
              "    <tr style=\"text-align: right;\">\n",
              "      <th></th>\n",
              "      <th>Age</th>\n",
              "      <th>Sleep Duration</th>\n",
              "      <th>Quality of Sleep</th>\n",
              "      <th>Physical Activity Level</th>\n",
              "      <th>Stress Level</th>\n",
              "      <th>Heart Rate</th>\n",
              "      <th>Daily Steps</th>\n",
              "      <th>Systolic</th>\n",
              "      <th>Diastolic</th>\n",
              "      <th>Occupation_encoded</th>\n",
              "      <th>BMI_category_encoded</th>\n",
              "      <th>Gender_encoded</th>\n",
              "    </tr>\n",
              "  </thead>\n",
              "  <tbody>\n",
              "    <tr>\n",
              "      <th>0</th>\n",
              "      <td>27</td>\n",
              "      <td>6.1</td>\n",
              "      <td>6</td>\n",
              "      <td>42</td>\n",
              "      <td>6</td>\n",
              "      <td>77</td>\n",
              "      <td>4200</td>\n",
              "      <td>126</td>\n",
              "      <td>83</td>\n",
              "      <td>7</td>\n",
              "      <td>1</td>\n",
              "      <td>0</td>\n",
              "    </tr>\n",
              "    <tr>\n",
              "      <th>1</th>\n",
              "      <td>28</td>\n",
              "      <td>6.2</td>\n",
              "      <td>6</td>\n",
              "      <td>60</td>\n",
              "      <td>8</td>\n",
              "      <td>75</td>\n",
              "      <td>10000</td>\n",
              "      <td>125</td>\n",
              "      <td>80</td>\n",
              "      <td>6</td>\n",
              "      <td>0</td>\n",
              "      <td>0</td>\n",
              "    </tr>\n",
              "    <tr>\n",
              "      <th>2</th>\n",
              "      <td>28</td>\n",
              "      <td>6.2</td>\n",
              "      <td>6</td>\n",
              "      <td>60</td>\n",
              "      <td>8</td>\n",
              "      <td>75</td>\n",
              "      <td>10000</td>\n",
              "      <td>125</td>\n",
              "      <td>80</td>\n",
              "      <td>6</td>\n",
              "      <td>0</td>\n",
              "      <td>0</td>\n",
              "    </tr>\n",
              "    <tr>\n",
              "      <th>3</th>\n",
              "      <td>28</td>\n",
              "      <td>5.9</td>\n",
              "      <td>4</td>\n",
              "      <td>30</td>\n",
              "      <td>8</td>\n",
              "      <td>85</td>\n",
              "      <td>3000</td>\n",
              "      <td>140</td>\n",
              "      <td>90</td>\n",
              "      <td>8</td>\n",
              "      <td>2</td>\n",
              "      <td>0</td>\n",
              "    </tr>\n",
              "    <tr>\n",
              "      <th>4</th>\n",
              "      <td>28</td>\n",
              "      <td>5.9</td>\n",
              "      <td>4</td>\n",
              "      <td>30</td>\n",
              "      <td>8</td>\n",
              "      <td>85</td>\n",
              "      <td>3000</td>\n",
              "      <td>140</td>\n",
              "      <td>90</td>\n",
              "      <td>8</td>\n",
              "      <td>2</td>\n",
              "      <td>0</td>\n",
              "    </tr>\n",
              "  </tbody>\n",
              "</table>\n",
              "</div>"
            ],
            "text/plain": [
              "   Age  Sleep Duration  Quality of Sleep  Physical Activity Level  \\\n",
              "0   27             6.1                 6                       42   \n",
              "1   28             6.2                 6                       60   \n",
              "2   28             6.2                 6                       60   \n",
              "3   28             5.9                 4                       30   \n",
              "4   28             5.9                 4                       30   \n",
              "\n",
              "   Stress Level  Heart Rate  Daily Steps  Systolic  Diastolic  \\\n",
              "0             6          77         4200       126         83   \n",
              "1             8          75        10000       125         80   \n",
              "2             8          75        10000       125         80   \n",
              "3             8          85         3000       140         90   \n",
              "4             8          85         3000       140         90   \n",
              "\n",
              "   Occupation_encoded  BMI_category_encoded  Gender_encoded  \n",
              "0                   7                     1               0  \n",
              "1                   6                     0               0  \n",
              "2                   6                     0               0  \n",
              "3                   8                     2               0  \n",
              "4                   8                     2               0  "
            ]
          },
          "execution_count": 35,
          "metadata": {},
          "output_type": "execute_result"
        }
      ],
      "source": [
        "df_numeric = df.drop(columns=['Gender', 'Occupation', 'BMI Category'])\n",
        "df_numeric.head()"
      ]
    },
    {
      "cell_type": "code",
      "execution_count": 36,
      "metadata": {
        "colab": {
          "base_uri": "https://localhost:8080/",
          "height": 864
        },
        "id": "PsMakyflTUG_",
        "outputId": "f4d19d72-e984-4edc-fe84-a5f3cda0fcaf"
      },
      "outputs": [
        {
          "data": {
            "image/png": "[encoded data removed]",
            "text/plain": [
              "<Figure size 1500x1000 with 2 Axes>"
            ]
          },
          "metadata": {},
          "output_type": "display_data"
        }
      ],
      "source": [
        "plt.figure(figsize=(15,10))\n",
        "sns.heatmap(df_numeric.corr(), annot=True)\n",
        "plt.show()"
      ]
    },
    {
      "cell_type": "markdown",
      "metadata": {
        "id": "lk4LJFo1K9o3"
      },
      "source": [
        "## Modelo de Machine Learning"
      ]
    },
    {
      "cell_type": "markdown",
      "metadata": {
        "id": "wzSk3B523Z3T"
      },
      "source": [
        "Al no haber correlación visual directa, pero de forma numérica se observa que las variables si afectan a nuestra variable objetivo (nivel de estrés) es prudente usar Arboles de decisión."
      ]
    },
    {
      "cell_type": "markdown",
      "metadata": {
        "id": "Q7Z_yEeB3k4A"
      },
      "source": [
        "No se usa random forest porque al ser muy pocos datos podemos causar overfitting."
      ]
    },
    {
      "cell_type": "code",
      "execution_count": 37,
      "metadata": {
        "id": "k3vqTqiL_n2g"
      },
      "outputs": [],
      "source": [
        "from sklearn.model_selection import train_test_split\n",
        "from sklearn.tree import DecisionTreeClassifier\n",
        "from sklearn.metrics import classification_report, accuracy_score"
      ]
    },
    {
      "cell_type": "code",
      "execution_count": 38,
      "metadata": {
        "colab": {
          "base_uri": "https://localhost:8080/",
          "height": 147
        },
        "id": "PRO_J3-U3xgK",
        "outputId": "5c31cb56-3525-431f-f3f4-ec140f7a07f9"
      },
      "outputs": [
        {
          "data": {
            "text/html": [
              "<div>\n",
              "<style scoped>\n",
              "    .dataframe tbody tr th:only-of-type {\n",
              "        vertical-align: middle;\n",
              "    }\n",
              "\n",
              "    .dataframe tbody tr th {\n",
              "        vertical-align: top;\n",
              "    }\n",
              "\n",
              "    .dataframe thead th {\n",
              "        text-align: right;\n",
              "    }\n",
              "</style>\n",
              "<table border=\"1\" class=\"dataframe\">\n",
              "  <thead>\n",
              "    <tr style=\"text-align: right;\">\n",
              "      <th></th>\n",
              "      <th>Age</th>\n",
              "      <th>Sleep Duration</th>\n",
              "      <th>Quality of Sleep</th>\n",
              "      <th>Physical Activity Level</th>\n",
              "      <th>Stress Level</th>\n",
              "      <th>Heart Rate</th>\n",
              "      <th>Daily Steps</th>\n",
              "      <th>Systolic</th>\n",
              "      <th>Diastolic</th>\n",
              "      <th>Occupation_encoded</th>\n",
              "      <th>BMI_category_encoded</th>\n",
              "      <th>Gender_encoded</th>\n",
              "    </tr>\n",
              "  </thead>\n",
              "  <tbody>\n",
              "    <tr>\n",
              "      <th>0</th>\n",
              "      <td>27</td>\n",
              "      <td>6.1</td>\n",
              "      <td>6</td>\n",
              "      <td>42</td>\n",
              "      <td>6</td>\n",
              "      <td>77</td>\n",
              "      <td>4200</td>\n",
              "      <td>126</td>\n",
              "      <td>83</td>\n",
              "      <td>7</td>\n",
              "      <td>1</td>\n",
              "      <td>0</td>\n",
              "    </tr>\n",
              "    <tr>\n",
              "      <th>1</th>\n",
              "      <td>28</td>\n",
              "      <td>6.2</td>\n",
              "      <td>6</td>\n",
              "      <td>60</td>\n",
              "      <td>8</td>\n",
              "      <td>75</td>\n",
              "      <td>10000</td>\n",
              "      <td>125</td>\n",
              "      <td>80</td>\n",
              "      <td>6</td>\n",
              "      <td>0</td>\n",
              "      <td>0</td>\n",
              "    </tr>\n",
              "  </tbody>\n",
              "</table>\n",
              "</div>"
            ],
            "text/plain": [
              "   Age  Sleep Duration  Quality of Sleep  Physical Activity Level  \\\n",
              "0   27             6.1                 6                       42   \n",
              "1   28             6.2                 6                       60   \n",
              "\n",
              "   Stress Level  Heart Rate  Daily Steps  Systolic  Diastolic  \\\n",
              "0             6          77         4200       126         83   \n",
              "1             8          75        10000       125         80   \n",
              "\n",
              "   Occupation_encoded  BMI_category_encoded  Gender_encoded  \n",
              "0                   7                     1               0  \n",
              "1                   6                     0               0  "
            ]
          },
          "execution_count": 38,
          "metadata": {},
          "output_type": "execute_result"
        }
      ],
      "source": [
        "df_numeric.head(2)"
      ]
    },
    {
      "cell_type": "markdown",
      "metadata": {
        "id": "2pGRPMM-usiE"
      },
      "source": [
        "**Modificacion: Eliminar columnas variables que no sean accesibles para el usuario en el momento**"
      ]
    },
    {
      "cell_type": "code",
      "execution_count": 39,
      "metadata": {
        "colab": {
          "base_uri": "https://localhost:8080/"
        },
        "id": "807ORaGZu068",
        "outputId": "7c5ce4b6-21fd-43a3-e33a-266be2d1532b"
      },
      "outputs": [
        {
          "data": {
            "text/plain": [
              "Index(['Age', 'Sleep Duration', 'Quality of Sleep', 'Physical Activity Level',\n",
              "       'Stress Level', 'Heart Rate', 'Daily Steps', 'Systolic', 'Diastolic',\n",
              "       'Occupation_encoded', 'BMI_category_encoded', 'Gender_encoded'],\n",
              "      dtype='object')"
            ]
          },
          "execution_count": 39,
          "metadata": {},
          "output_type": "execute_result"
        }
      ],
      "source": [
        "df_numeric.columns"
      ]
    },
    {
      "cell_type": "code",
      "execution_count": 40,
      "metadata": {
        "id": "x-2DRARbwGcI"
      },
      "outputs": [],
      "source": [
        "not_accessible = ['Quality of Sleep', 'Physical Activity Level', 'Systolic', 'Diastolic']\n",
        "df_numeric = df_numeric.drop(not_accessible, axis=1)"
      ]
    },
    {
      "cell_type": "code",
      "execution_count": 41,
      "metadata": {
        "colab": {
          "base_uri": "https://localhost:8080/",
          "height": 112
        },
        "id": "-6AhpGfawQlx",
        "outputId": "5febdbfb-1518-4349-8852-8b2e03adb86a"
      },
      "outputs": [
        {
          "data": {
            "text/html": [
              "<div>\n",
              "<style scoped>\n",
              "    .dataframe tbody tr th:only-of-type {\n",
              "        vertical-align: middle;\n",
              "    }\n",
              "\n",
              "    .dataframe tbody tr th {\n",
              "        vertical-align: top;\n",
              "    }\n",
              "\n",
              "    .dataframe thead th {\n",
              "        text-align: right;\n",
              "    }\n",
              "</style>\n",
              "<table border=\"1\" class=\"dataframe\">\n",
              "  <thead>\n",
              "    <tr style=\"text-align: right;\">\n",
              "      <th></th>\n",
              "      <th>Age</th>\n",
              "      <th>Sleep Duration</th>\n",
              "      <th>Stress Level</th>\n",
              "      <th>Heart Rate</th>\n",
              "      <th>Daily Steps</th>\n",
              "      <th>Occupation_encoded</th>\n",
              "      <th>BMI_category_encoded</th>\n",
              "      <th>Gender_encoded</th>\n",
              "    </tr>\n",
              "  </thead>\n",
              "  <tbody>\n",
              "    <tr>\n",
              "      <th>0</th>\n",
              "      <td>27</td>\n",
              "      <td>6.1</td>\n",
              "      <td>6</td>\n",
              "      <td>77</td>\n",
              "      <td>4200</td>\n",
              "      <td>7</td>\n",
              "      <td>1</td>\n",
              "      <td>0</td>\n",
              "    </tr>\n",
              "    <tr>\n",
              "      <th>1</th>\n",
              "      <td>28</td>\n",
              "      <td>6.2</td>\n",
              "      <td>8</td>\n",
              "      <td>75</td>\n",
              "      <td>10000</td>\n",
              "      <td>6</td>\n",
              "      <td>0</td>\n",
              "      <td>0</td>\n",
              "    </tr>\n",
              "  </tbody>\n",
              "</table>\n",
              "</div>"
            ],
            "text/plain": [
              "   Age  Sleep Duration  Stress Level  Heart Rate  Daily Steps  \\\n",
              "0   27             6.1             6          77         4200   \n",
              "1   28             6.2             8          75        10000   \n",
              "\n",
              "   Occupation_encoded  BMI_category_encoded  Gender_encoded  \n",
              "0                   7                     1               0  \n",
              "1                   6                     0               0  "
            ]
          },
          "execution_count": 41,
          "metadata": {},
          "output_type": "execute_result"
        }
      ],
      "source": [
        "df_numeric.head(2)"
      ]
    },
    {
      "cell_type": "code",
      "execution_count": 42,
      "metadata": {
        "id": "RxsmWtLXDsbm"
      },
      "outputs": [],
      "source": [
        "# Separar características y variable objetivo\n",
        "X = df_numeric.drop('Stress Level', axis=1)\n",
        "y = df_numeric['Stress Level']"
      ]
    },
    {
      "cell_type": "code",
      "execution_count": 43,
      "metadata": {
        "id": "a5-hiHFPGP8P"
      },
      "outputs": [],
      "source": [
        "# Dividir los datos en entrenamiento y prueba\n",
        "X_train, X_test, y_train, y_test = train_test_split(X, y, test_size=0.15, random_state=42)"
      ]
    },
    {
      "cell_type": "code",
      "execution_count": 44,
      "metadata": {
        "id": "0aNttY68GS_i"
      },
      "outputs": [],
      "source": [
        "#Crear el modelo de Decision Tree con poda\n",
        "dt_classifier = DecisionTreeClassifier(random_state=42)\n",
        "\n",
        "# Entrenar el modelo\n",
        "dt_classifier.fit(X_train, y_train)\n",
        "\n",
        "# Hacer predicciones y evaluar\n",
        "y_pred = dt_classifier.predict(X_test)"
      ]
    },
    {
      "cell_type": "code",
      "execution_count": 45,
      "metadata": {
        "colab": {
          "base_uri": "https://localhost:8080/"
        },
        "id": "CdQYAaOkKByk",
        "outputId": "33b052f5-badb-4b68-9eb6-ce165bd244a7"
      },
      "outputs": [
        {
          "name": "stdout",
          "output_type": "stream",
          "text": [
            "Accuracy: 0.9649122807017544\n",
            "\n",
            "Classification Report:\n",
            "               precision    recall  f1-score   support\n",
            "\n",
            "           3       1.00      1.00      1.00         8\n",
            "           4       0.89      1.00      0.94         8\n",
            "           5       1.00      0.82      0.90        11\n",
            "           6       0.90      1.00      0.95         9\n",
            "           7       1.00      1.00      1.00         9\n",
            "           8       1.00      1.00      1.00        12\n",
            "\n",
            "    accuracy                           0.96        57\n",
            "   macro avg       0.96      0.97      0.96        57\n",
            "weighted avg       0.97      0.96      0.96        57\n",
            "\n"
          ]
        }
      ],
      "source": [
        "print(\"Accuracy:\", accuracy_score(y_test, y_pred))\n",
        "print(\"\\nClassification Report:\\n\", classification_report(y_test, y_pred))"
      ]
    },
    {
      "cell_type": "code",
      "execution_count": 46,
      "metadata": {
        "id": "e0Ul2zJjK14Q"
      },
      "outputs": [],
      "source": [
        "from sklearn.metrics import confusion_matrix, accuracy_score, ConfusionMatrixDisplay"
      ]
    },
    {
      "cell_type": "code",
      "execution_count": 47,
      "metadata": {
        "id": "vfhR4HxgKOX9"
      },
      "outputs": [],
      "source": [
        "cm = confusion_matrix(y_test, y_pred)"
      ]
    },
    {
      "cell_type": "code",
      "execution_count": 48,
      "metadata": {
        "colab": {
          "base_uri": "https://localhost:8080/",
          "height": 564
        },
        "id": "0u55niF3K3fH",
        "outputId": "ade82944-3f42-496d-8798-f214a608f28a"
      },
      "outputs": [
        {
          "data": {
            "image/png": "[encoded data removed]",
            "text/plain": [
              "<Figure size 800x600 with 2 Axes>"
            ]
          },
          "metadata": {},
          "output_type": "display_data"
        }
      ],
      "source": [
        "# Crear el plot de la matriz de confusión\n",
        "fig, ax = plt.subplots(figsize=(8, 6))\n",
        "sns.heatmap(cm, annot=True, fmt='d', cmap='Blues', ax=ax)\n",
        "ax.set_xlabel('Predicted labels')\n",
        "ax.set_ylabel('True labels')\n",
        "ax.set_title('Confusion Matrix')\n",
        "plt.show()"
      ]
    },
    {
      "cell_type": "code",
      "execution_count": 49,
      "metadata": {
        "colab": {
          "base_uri": "https://localhost:8080/"
        },
        "id": "zIop_8LnMzoZ",
        "outputId": "a3941305-ec94-4c7a-880b-f436b50356cc"
      },
      "outputs": [
        {
          "data": {
            "text/plain": [
              "Index(['Age', 'Sleep Duration', 'Stress Level', 'Heart Rate', 'Daily Steps',\n",
              "       'Occupation_encoded', 'BMI_category_encoded', 'Gender_encoded'],\n",
              "      dtype='object')"
            ]
          },
          "execution_count": 49,
          "metadata": {},
          "output_type": "execute_result"
        }
      ],
      "source": [
        "df_numeric.columns"
      ]
    },
    {
      "cell_type": "code",
      "execution_count": 50,
      "metadata": {
        "colab": {
          "base_uri": "https://localhost:8080/"
        },
        "id": "YC36xgK3NZwI",
        "outputId": "ec535246-ea47-4e49-871c-a903bcd79a19"
      },
      "outputs": [
        {
          "data": {
            "text/plain": [
              "array([6, 8, 7, 4, 3, 5])"
            ]
          },
          "execution_count": 50,
          "metadata": {},
          "output_type": "execute_result"
        }
      ],
      "source": [
        "df_numeric['Stress Level'].unique()"
      ]
    },
    {
      "cell_type": "markdown",
      "metadata": {
        "id": "X4fDod_lL4op"
      },
      "source": [
        "## Probando el modelo con persona ficticia"
      ]
    },
    {
      "cell_type": "code",
      "execution_count": 51,
      "metadata": {
        "colab": {
          "base_uri": "https://localhost:8080/"
        },
        "id": "VRj5HZ1BK8Ml",
        "outputId": "1932aeb8-5935-4de8-8077-4e734c0bdf70"
      },
      "outputs": [
        {
          "name": "stdout",
          "output_type": "stream",
          "text": [
            "Predicted Stress Level: 5\n"
          ]
        }
      ],
      "source": [
        "# Crear un DataFrame con los datos de la nueva persona\n",
        "new_person = pd.DataFrame({\n",
        "    'Age': [20],\n",
        "    'Sleep Duration': [6.7],\n",
        "    'Heart Rate': [70],\n",
        "    'Daily Steps': [1000],\n",
        "    'Occupation_encoded': [7],  # Tech\n",
        "    'BMI_category_encoded': [0],  # Normal\n",
        "    'Gender_encoded': [0]  # Male\n",
        "})\n",
        "\n",
        "# Hacer la predicción con el modelo entrenado\n",
        "predicted_stress_level = dt_classifier.predict(new_person)\n",
        "\n",
        "# Imprimir el resultado\n",
        "print(\"Predicted Stress Level:\", predicted_stress_level[0])"
      ]
    },
    {
      "cell_type": "markdown",
      "metadata": {
        "id": "YPYuNfIxyUIL"
      },
      "source": [
        "Conclusiones:\n",
        "* Las variables de peso para el nivel de estrés en el arbol de decisión son sin duda el latido del corazón, los pasos diarios y sobre todo la duración del sueño. Estoy casi seguro que esas hacen un 80% del trabajo"
      ]
    },
    {
      "cell_type": "code",
      "execution_count": null,
      "metadata": {
        "colab": {
          "base_uri": "https://localhost:8080/"
        },
        "id": "iWIAyrdwMheM",
        "outputId": "08eaae8c-fe53-4518-c177-0cd51048c99f"
      },
      "outputs": [
        {
          "name": "stdout",
          "output_type": "stream",
          "text": [
            "Modelo guardado en: /content/drive/MyDrive/Modelos ML/stress_predict.pkl\n"
          ]
        }
      ],
      "source": [
        "import joblib\n",
        "\n",
        "save_path = 'stress_predict.pkl'\n",
        "\n",
        "# Guardar el modelo\n",
        "joblib.dump(dt_classifier, save_path)\n",
        "print(f\"Modelo guardado en: {save_path}\")"
      ]
    }
  ],
  "metadata": {
    "colab": {
      "provenance": []
    },
    "kernelspec": {
      "display_name": "ml_models",
      "language": "python",
      "name": "python3"
    },
    "language_info": {
      "codemirror_mode": {
        "name": "ipython",
        "version": 3
      },
      "file_extension": ".py",
      "mimetype": "text/x-python",
      "name": "python",
      "nbconvert_exporter": "python",
      "pygments_lexer": "ipython3",
      "version": "3.13.1"
    }
  },
  "nbformat": 4,
  "nbformat_minor": 0
}
